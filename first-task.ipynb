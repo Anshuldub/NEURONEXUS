{
 "cells": [
  {
   "cell_type": "code",
   "execution_count": 1,
   "id": "69ad652d",
   "metadata": {
    "_cell_guid": "b1076dfc-b9ad-4769-8c92-a6c4dae69d19",
    "_uuid": "8f2839f25d086af736a60e9eeb907d3b93b6e0e5",
    "execution": {
     "iopub.execute_input": "2023-12-05T03:37:39.909838Z",
     "iopub.status.busy": "2023-12-05T03:37:39.908660Z",
     "iopub.status.idle": "2023-12-05T03:37:40.306350Z",
     "shell.execute_reply": "2023-12-05T03:37:40.304927Z"
    },
    "papermill": {
     "duration": 0.405928,
     "end_time": "2023-12-05T03:37:40.309411",
     "exception": false,
     "start_time": "2023-12-05T03:37:39.903483",
     "status": "completed"
    },
    "tags": []
   },
   "outputs": [
    {
     "name": "stdout",
     "output_type": "stream",
     "text": [
      "/kaggle/input/bank-customer-churn-prediction/Churn_Modelling.csv\n"
     ]
    }
   ],
   "source": [
    "# This Python 3 environment comes with many helpful analytics libraries installed\n",
    "# It is defined by the kaggle/python Docker image: https://github.com/kaggle/docker-python\n",
    "# For example, here's several helpful packages to load\n",
    "\n",
    "import numpy as np # linear algebra\n",
    "import pandas as pd # data processing, CSV file I/O (e.g. pd.read_csv)\n",
    "\n",
    "# Input data files are available in the read-only \"../input/\" directory\n",
    "# For example, running this (by clicking run or pressing Shift+Enter) will list all files under the input directory\n",
    "\n",
    "import os\n",
    "for dirname, _, filenames in os.walk('/kaggle/input'):\n",
    "    for filename in filenames:\n",
    "        print(os.path.join(dirname, filename))\n",
    "\n",
    "# You can write up to 20GB to the current directory (/kaggle/working/) that gets preserved as output when you create a version using \"Save & Run All\" \n",
    "# You can also write temporary files to /kaggle/temp/, but they won't be saved outside of the current session"
   ]
  },
  {
   "cell_type": "code",
   "execution_count": 2,
   "id": "05d048c2",
   "metadata": {
    "execution": {
     "iopub.execute_input": "2023-12-05T03:37:40.319533Z",
     "iopub.status.busy": "2023-12-05T03:37:40.319021Z",
     "iopub.status.idle": "2023-12-05T03:37:42.064049Z",
     "shell.execute_reply": "2023-12-05T03:37:42.062973Z"
    },
    "papermill": {
     "duration": 1.752023,
     "end_time": "2023-12-05T03:37:42.066619",
     "exception": false,
     "start_time": "2023-12-05T03:37:40.314596",
     "status": "completed"
    },
    "tags": []
   },
   "outputs": [],
   "source": [
    "import pandas as pd\n",
    "from sklearn.model_selection import train_test_split\n",
    "from sklearn.preprocessing import StandardScaler, OneHotEncoder\n",
    "from sklearn.compose import ColumnTransformer\n",
    "from sklearn.pipeline import Pipeline\n",
    "from sklearn.ensemble import RandomForestClassifier\n",
    "from sklearn.linear_model import LogisticRegression\n",
    "from xgboost import XGBClassifier\n",
    "from sklearn.metrics import accuracy_score, classification_report, confusion_matrix\n",
    "\n",
    "\n"
   ]
  },
  {
   "cell_type": "code",
   "execution_count": 3,
   "id": "925de275",
   "metadata": {
    "execution": {
     "iopub.execute_input": "2023-12-05T03:37:42.075414Z",
     "iopub.status.busy": "2023-12-05T03:37:42.075022Z",
     "iopub.status.idle": "2023-12-05T03:37:42.138588Z",
     "shell.execute_reply": "2023-12-05T03:37:42.137595Z"
    },
    "papermill": {
     "duration": 0.070637,
     "end_time": "2023-12-05T03:37:42.140926",
     "exception": false,
     "start_time": "2023-12-05T03:37:42.070289",
     "status": "completed"
    },
    "tags": []
   },
   "outputs": [
    {
     "name": "stdout",
     "output_type": "stream",
     "text": [
      "   RowNumber  CustomerId   Surname  CreditScore Geography  Gender  Age  \\\n",
      "0          1    15634602  Hargrave          619    France  Female   42   \n",
      "1          2    15647311      Hill          608     Spain  Female   41   \n",
      "2          3    15619304      Onio          502    France  Female   42   \n",
      "3          4    15701354      Boni          699    France  Female   39   \n",
      "4          5    15737888  Mitchell          850     Spain  Female   43   \n",
      "\n",
      "   Tenure    Balance  NumOfProducts  HasCrCard  IsActiveMember  \\\n",
      "0       2       0.00              1          1               1   \n",
      "1       1   83807.86              1          0               1   \n",
      "2       8  159660.80              3          1               0   \n",
      "3       1       0.00              2          0               0   \n",
      "4       2  125510.82              1          1               1   \n",
      "\n",
      "   EstimatedSalary  Exited  \n",
      "0        101348.88       1  \n",
      "1        112542.58       0  \n",
      "2        113931.57       1  \n",
      "3         93826.63       0  \n",
      "4         79084.10       0  \n"
     ]
    }
   ],
   "source": [
    "\n",
    "# Load the dataset\n",
    "dataset_path = \"/kaggle/input/bank-customer-churn-prediction/Churn_Modelling.csv\"\n",
    "df = pd.read_csv(dataset_path)\n",
    "\n",
    "# Display the first few rows of the dataset.\n",
    "print(df.head())"
   ]
  },
  {
   "cell_type": "code",
   "execution_count": 4,
   "id": "c76ef1c1",
   "metadata": {
    "execution": {
     "iopub.execute_input": "2023-12-05T03:37:42.149141Z",
     "iopub.status.busy": "2023-12-05T03:37:42.148431Z",
     "iopub.status.idle": "2023-12-05T03:37:42.163058Z",
     "shell.execute_reply": "2023-12-05T03:37:42.161891Z"
    },
    "papermill": {
     "duration": 0.021847,
     "end_time": "2023-12-05T03:37:42.166036",
     "exception": false,
     "start_time": "2023-12-05T03:37:42.144189",
     "status": "completed"
    },
    "tags": []
   },
   "outputs": [],
   "source": [
    "# Drop unnecessary columns\n",
    "df = df.drop(['RowNumber', 'CustomerId', 'Surname'], axis=1)"
   ]
  },
  {
   "cell_type": "code",
   "execution_count": 5,
   "id": "903f8585",
   "metadata": {
    "execution": {
     "iopub.execute_input": "2023-12-05T03:37:42.174688Z",
     "iopub.status.busy": "2023-12-05T03:37:42.174310Z",
     "iopub.status.idle": "2023-12-05T03:37:42.187205Z",
     "shell.execute_reply": "2023-12-05T03:37:42.186222Z"
    },
    "papermill": {
     "duration": 0.020108,
     "end_time": "2023-12-05T03:37:42.189716",
     "exception": false,
     "start_time": "2023-12-05T03:37:42.169608",
     "status": "completed"
    },
    "tags": []
   },
   "outputs": [],
   "source": [
    "# Separate features and target variable\n",
    "# Exited is the target variable indicating whether a customer has churned or not.\n",
    "X = df.drop('Exited', axis=1)\n",
    "y = df['Exited']\n",
    "\n",
    "# Split the dataset into training and testing sets\n",
    "X_train, X_test, y_train, y_test = train_test_split(X, y, test_size=0.2, random_state=42)"
   ]
  },
  {
   "cell_type": "code",
   "execution_count": 6,
   "id": "d9c61f50",
   "metadata": {
    "execution": {
     "iopub.execute_input": "2023-12-05T03:37:42.198397Z",
     "iopub.status.busy": "2023-12-05T03:37:42.198041Z",
     "iopub.status.idle": "2023-12-05T03:37:42.205840Z",
     "shell.execute_reply": "2023-12-05T03:37:42.204689Z"
    },
    "papermill": {
     "duration": 0.014774,
     "end_time": "2023-12-05T03:37:42.208162",
     "exception": false,
     "start_time": "2023-12-05T03:37:42.193388",
     "status": "completed"
    },
    "tags": []
   },
   "outputs": [],
   "source": [
    "# Define preprocessing steps\n",
    "numeric_features = X.select_dtypes(include=['int64', 'float64']).columns\n",
    "categorical_features = X.select_dtypes(include=['object']).columns\n",
    "\n",
    "numeric_transformer = Pipeline(steps=[\n",
    "    ('scaler', StandardScaler())\n",
    "])\n",
    "\n",
    "categorical_transformer = Pipeline(steps=[\n",
    "    ('onehot', OneHotEncoder(handle_unknown='ignore'))\n",
    "])\n",
    "\n",
    "preprocessor = ColumnTransformer(\n",
    "    transformers=[\n",
    "        ('num', numeric_transformer, numeric_features),\n",
    "        ('cat', categorical_transformer, categorical_features)\n",
    "    ])"
   ]
  },
  {
   "cell_type": "code",
   "execution_count": 7,
   "id": "a669be9c",
   "metadata": {
    "execution": {
     "iopub.execute_input": "2023-12-05T03:37:42.216575Z",
     "iopub.status.busy": "2023-12-05T03:37:42.216179Z",
     "iopub.status.idle": "2023-12-05T03:37:42.221819Z",
     "shell.execute_reply": "2023-12-05T03:37:42.220765Z"
    },
    "papermill": {
     "duration": 0.012414,
     "end_time": "2023-12-05T03:37:42.224035",
     "exception": false,
     "start_time": "2023-12-05T03:37:42.211621",
     "status": "completed"
    },
    "tags": []
   },
   "outputs": [],
   "source": [
    "# Defining models\n",
    "models = {\n",
    "    'Logistic Regression': LogisticRegression(),\n",
    "    'Random Forest': RandomForestClassifier(random_state=42),\n",
    "    'XGBoost': XGBClassifier(random_state=42)\n",
    "}"
   ]
  },
  {
   "cell_type": "code",
   "execution_count": 8,
   "id": "c77ade17",
   "metadata": {
    "execution": {
     "iopub.execute_input": "2023-12-05T03:37:42.233088Z",
     "iopub.status.busy": "2023-12-05T03:37:42.232462Z",
     "iopub.status.idle": "2023-12-05T03:37:43.846534Z",
     "shell.execute_reply": "2023-12-05T03:37:43.845415Z"
    },
    "papermill": {
     "duration": 1.621631,
     "end_time": "2023-12-05T03:37:43.849124",
     "exception": false,
     "start_time": "2023-12-05T03:37:42.227493",
     "status": "completed"
    },
    "tags": []
   },
   "outputs": [
    {
     "name": "stdout",
     "output_type": "stream",
     "text": [
      "\n",
      "Logistic Regression:\n",
      "Accuracy: 0.811\n",
      "Classification Report:\n",
      "              precision    recall  f1-score   support\n",
      "\n",
      "           0       0.83      0.96      0.89      1607\n",
      "           1       0.55      0.20      0.29       393\n",
      "\n",
      "    accuracy                           0.81      2000\n",
      "   macro avg       0.69      0.58      0.59      2000\n",
      "weighted avg       0.78      0.81      0.77      2000\n",
      "\n",
      "Confusion Matrix:\n",
      "[[1543   64]\n",
      " [ 314   79]]\n",
      "\n",
      "Random Forest:\n",
      "Accuracy: 0.8635\n",
      "Classification Report:\n",
      "              precision    recall  f1-score   support\n",
      "\n",
      "           0       0.88      0.96      0.92      1607\n",
      "           1       0.75      0.46      0.57       393\n",
      "\n",
      "    accuracy                           0.86      2000\n",
      "   macro avg       0.81      0.71      0.75      2000\n",
      "weighted avg       0.85      0.86      0.85      2000\n",
      "\n",
      "Confusion Matrix:\n",
      "[[1545   62]\n",
      " [ 211  182]]\n",
      "\n",
      "XGBoost:\n",
      "Accuracy: 0.8625\n",
      "Classification Report:\n",
      "              precision    recall  f1-score   support\n",
      "\n",
      "           0       0.89      0.95      0.92      1607\n",
      "           1       0.71      0.51      0.59       393\n",
      "\n",
      "    accuracy                           0.86      2000\n",
      "   macro avg       0.80      0.73      0.76      2000\n",
      "weighted avg       0.85      0.86      0.85      2000\n",
      "\n",
      "Confusion Matrix:\n",
      "[[1523   84]\n",
      " [ 191  202]]\n"
     ]
    }
   ],
   "source": [
    "# Train and evaluate models\n",
    "for name, model in models.items():\n",
    "    clf = Pipeline(steps=[('preprocessor', preprocessor),\n",
    "                           ('classifier', model)])\n",
    "\n",
    "    clf.fit(X_train, y_train)\n",
    "    y_pred = clf.predict(X_test)\n",
    "\n",
    "    print(f\"\\n{name}:\")\n",
    "    print(f\"Accuracy: {accuracy_score(y_test, y_pred)}\")\n",
    "    print(f\"Classification Report:\\n{classification_report(y_test, y_pred)}\")\n",
    "    print(f\"Confusion Matrix:\\n{confusion_matrix(y_test, y_pred)}\")"
   ]
  },
  {
   "cell_type": "code",
   "execution_count": 9,
   "id": "68bcbe38",
   "metadata": {
    "execution": {
     "iopub.execute_input": "2023-12-05T03:37:43.858498Z",
     "iopub.status.busy": "2023-12-05T03:37:43.857401Z",
     "iopub.status.idle": "2023-12-05T03:37:43.914918Z",
     "shell.execute_reply": "2023-12-05T03:37:43.913801Z"
    },
    "papermill": {
     "duration": 0.064547,
     "end_time": "2023-12-05T03:37:43.917281",
     "exception": false,
     "start_time": "2023-12-05T03:37:43.852734",
     "status": "completed"
    },
    "tags": []
   },
   "outputs": [
    {
     "name": "stdout",
     "output_type": "stream",
     "text": [
      "      CustomerId  Churn_Prediction\n",
      "0       15634602                 0\n",
      "1       15647311                 0\n",
      "2       15619304                 1\n",
      "3       15701354                 0\n",
      "4       15737888                 0\n",
      "...          ...               ...\n",
      "9995    15606229                 0\n",
      "9996    15569892                 0\n",
      "9997    15584532                 0\n",
      "9998    15682355                 0\n",
      "9999    15628319                 0\n",
      "\n",
      "[10000 rows x 2 columns]\n"
     ]
    }
   ],
   "source": [
    " \n",
    "\n",
    "# Load new data\n",
    "new_data = pd.read_csv('/kaggle/input/bank-customer-churn-prediction/Churn_Modelling.csv')\n",
    "\n",
    "#  preprocessing \n",
    "X_n = new_data.drop(['RowNumber', 'CustomerId', 'Surname'], axis=1)\n",
    "\n",
    "#  predictions\n",
    "predictions = clf.predict(X_n)\n",
    "\n",
    "# Display predictions\n",
    "new_data['Churn_Prediction'] = predictions\n",
    "print(new_data[['CustomerId', 'Churn_Prediction']])\n"
   ]
  }
 ],
 "metadata": {
  "kaggle": {
   "accelerator": "none",
   "dataSources": [
    {
     "datasetId": 2008274,
     "sourceId": 3322096,
     "sourceType": "datasetVersion"
    }
   ],
   "dockerImageVersionId": 30587,
   "isGpuEnabled": false,
   "isInternetEnabled": false,
   "language": "python",
   "sourceType": "notebook"
  },
  "kernelspec": {
   "display_name": "Python 3",
   "language": "python",
   "name": "python3"
  },
  "language_info": {
   "codemirror_mode": {
    "name": "ipython",
    "version": 3
   },
   "file_extension": ".py",
   "mimetype": "text/x-python",
   "name": "python",
   "nbconvert_exporter": "python",
   "pygments_lexer": "ipython3",
   "version": "3.10.12"
  },
  "papermill": {
   "default_parameters": {},
   "duration": 7.645005,
   "end_time": "2023-12-05T03:37:44.542620",
   "environment_variables": {},
   "exception": null,
   "input_path": "__notebook__.ipynb",
   "output_path": "__notebook__.ipynb",
   "parameters": {},
   "start_time": "2023-12-05T03:37:36.897615",
   "version": "2.4.0"
  }
 },
 "nbformat": 4,
 "nbformat_minor": 5
}
