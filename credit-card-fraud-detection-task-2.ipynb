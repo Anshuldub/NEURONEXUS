{
 "cells": [
  {
   "cell_type": "code",
   "execution_count": 1,
   "id": "383786f1",
   "metadata": {
    "_cell_guid": "b1076dfc-b9ad-4769-8c92-a6c4dae69d19",
    "_uuid": "8f2839f25d086af736a60e9eeb907d3b93b6e0e5",
    "execution": {
     "iopub.execute_input": "2023-12-16T05:41:05.235486Z",
     "iopub.status.busy": "2023-12-16T05:41:05.235060Z",
     "iopub.status.idle": "2023-12-16T05:41:05.620829Z",
     "shell.execute_reply": "2023-12-16T05:41:05.619634Z"
    },
    "papermill": {
     "duration": 0.394988,
     "end_time": "2023-12-16T05:41:05.623546",
     "exception": false,
     "start_time": "2023-12-16T05:41:05.228558",
     "status": "completed"
    },
    "tags": []
   },
   "outputs": [
    {
     "name": "stdout",
     "output_type": "stream",
     "text": [
      "/kaggle/input/fraud-detection/fraudTest.csv\n",
      "/kaggle/input/fraud-detection/fraudTrain.csv\n"
     ]
    }
   ],
   "source": [
    "# This Python 3 environment comes with many helpful analytics libraries installed\n",
    "# It is defined by the kaggle/python Docker image: https://github.com/kaggle/docker-python\n",
    "# For example, here's several helpful packages to load\n",
    "\n",
    "import numpy as np # linear algebra\n",
    "import pandas as pd # data processing, CSV file I/O (e.g. pd.read_csv)\n",
    "\n",
    "# Input data files are available in the read-only \"../input/\" directory\n",
    "# For example, running this (by clicking run or pressing Shift+Enter) will list all files under the input directory\n",
    "\n",
    "import os\n",
    "for dirname, _, filenames in os.walk('/kaggle/input'):\n",
    "    for filename in filenames:\n",
    "        print(os.path.join(dirname, filename))\n",
    "\n",
    "# You can write up to 20GB to the current directory (/kaggle/working/) that gets preserved as output when you create a version using \"Save & Run All\" \n",
    "# You can also write temporary files to /kaggle/temp/, but they won't be saved outside of the current session"
   ]
  },
  {
   "cell_type": "code",
   "execution_count": 2,
   "id": "bf96e597",
   "metadata": {
    "execution": {
     "iopub.execute_input": "2023-12-16T05:41:05.635922Z",
     "iopub.status.busy": "2023-12-16T05:41:05.634646Z",
     "iopub.status.idle": "2023-12-16T05:41:07.534773Z",
     "shell.execute_reply": "2023-12-16T05:41:07.533678Z"
    },
    "papermill": {
     "duration": 1.908491,
     "end_time": "2023-12-16T05:41:07.537433",
     "exception": false,
     "start_time": "2023-12-16T05:41:05.628942",
     "status": "completed"
    },
    "tags": []
   },
   "outputs": [],
   "source": [
    "# Import necessary libraries\n",
    "import pandas as pd\n",
    "from sklearn.model_selection import train_test_split\n",
    "from sklearn.preprocessing import StandardScaler\n",
    "from sklearn.linear_model import LogisticRegression\n",
    "from sklearn.tree import DecisionTreeClassifier\n",
    "from sklearn.ensemble import RandomForestClassifier\n",
    "from sklearn.metrics import accuracy_score, confusion_matrix, classification_report\n",
    "import matplotlib.pyplot as plt\n",
    "import seaborn as sns\n",
    "\n",
    "\n",
    "\n"
   ]
  },
  {
   "cell_type": "code",
   "execution_count": 3,
   "id": "6c3e29dd",
   "metadata": {
    "execution": {
     "iopub.execute_input": "2023-12-16T05:41:07.547420Z",
     "iopub.status.busy": "2023-12-16T05:41:07.547010Z",
     "iopub.status.idle": "2023-12-16T05:41:20.918600Z",
     "shell.execute_reply": "2023-12-16T05:41:20.917634Z"
    },
    "papermill": {
     "duration": 13.379455,
     "end_time": "2023-12-16T05:41:20.921179",
     "exception": false,
     "start_time": "2023-12-16T05:41:07.541724",
     "status": "completed"
    },
    "tags": []
   },
   "outputs": [],
   "source": [
    "\n",
    "data = pd.read_csv('/kaggle/input/fraud-detection/fraudTrain.csv')"
   ]
  },
  {
   "cell_type": "code",
   "execution_count": 4,
   "id": "4c9332fb",
   "metadata": {
    "execution": {
     "iopub.execute_input": "2023-12-16T05:41:20.931652Z",
     "iopub.status.busy": "2023-12-16T05:41:20.930988Z",
     "iopub.status.idle": "2023-12-16T05:41:20.958751Z",
     "shell.execute_reply": "2023-12-16T05:41:20.957127Z"
    },
    "papermill": {
     "duration": 0.036031,
     "end_time": "2023-12-16T05:41:20.961517",
     "exception": false,
     "start_time": "2023-12-16T05:41:20.925486",
     "status": "completed"
    },
    "tags": []
   },
   "outputs": [
    {
     "name": "stdout",
     "output_type": "stream",
     "text": [
      "   Unnamed: 0 trans_date_trans_time            cc_num  \\\n",
      "0           0   2019-01-01 00:00:18  2703186189652095   \n",
      "1           1   2019-01-01 00:00:44      630423337322   \n",
      "2           2   2019-01-01 00:00:51    38859492057661   \n",
      "3           3   2019-01-01 00:01:16  3534093764340240   \n",
      "4           4   2019-01-01 00:03:06   375534208663984   \n",
      "\n",
      "                             merchant       category     amt      first  \\\n",
      "0          fraud_Rippin, Kub and Mann       misc_net    4.97   Jennifer   \n",
      "1     fraud_Heller, Gutmann and Zieme    grocery_pos  107.23  Stephanie   \n",
      "2                fraud_Lind-Buckridge  entertainment  220.11     Edward   \n",
      "3  fraud_Kutch, Hermiston and Farrell  gas_transport   45.00     Jeremy   \n",
      "4                 fraud_Keeling-Crist       misc_pos   41.96      Tyler   \n",
      "\n",
      "      last gender                        street  ...      lat      long  \\\n",
      "0    Banks      F                561 Perry Cove  ...  36.0788  -81.1781   \n",
      "1     Gill      F  43039 Riley Greens Suite 393  ...  48.8878 -118.2105   \n",
      "2  Sanchez      M      594 White Dale Suite 530  ...  42.1808 -112.2620   \n",
      "3    White      M   9443 Cynthia Court Apt. 038  ...  46.2306 -112.1138   \n",
      "4   Garcia      M              408 Bradley Rest  ...  38.4207  -79.4629   \n",
      "\n",
      "   city_pop                                job         dob  \\\n",
      "0      3495          Psychologist, counselling  1988-03-09   \n",
      "1       149  Special educational needs teacher  1978-06-21   \n",
      "2      4154        Nature conservation officer  1962-01-19   \n",
      "3      1939                    Patent attorney  1967-01-12   \n",
      "4        99     Dance movement psychotherapist  1986-03-28   \n",
      "\n",
      "                          trans_num   unix_time  merch_lat  merch_long  \\\n",
      "0  0b242abb623afc578575680df30655b9  1325376018  36.011293  -82.048315   \n",
      "1  1f76529f8574734946361c461b024d99  1325376044  49.159047 -118.186462   \n",
      "2  a1a22d70485983eac12b5b88dad1cf95  1325376051  43.150704 -112.154481   \n",
      "3  6b849c168bdad6f867558c3793159a81  1325376076  47.034331 -112.561071   \n",
      "4  a41d7549acf90789359a9aa5346dcb46  1325376186  38.674999  -78.632459   \n",
      "\n",
      "   is_fraud  \n",
      "0         0  \n",
      "1         0  \n",
      "2         0  \n",
      "3         0  \n",
      "4         0  \n",
      "\n",
      "[5 rows x 23 columns]\n"
     ]
    }
   ],
   "source": [
    "\n",
    "print(data.head())"
   ]
  },
  {
   "cell_type": "code",
   "execution_count": 5,
   "id": "8c2c5591",
   "metadata": {
    "execution": {
     "iopub.execute_input": "2023-12-16T05:41:20.971642Z",
     "iopub.status.busy": "2023-12-16T05:41:20.971273Z",
     "iopub.status.idle": "2023-12-16T05:41:21.327698Z",
     "shell.execute_reply": "2023-12-16T05:41:21.326572Z"
    },
    "papermill": {
     "duration": 0.364467,
     "end_time": "2023-12-16T05:41:21.330131",
     "exception": false,
     "start_time": "2023-12-16T05:41:20.965664",
     "status": "completed"
    },
    "tags": []
   },
   "outputs": [
    {
     "data": {
      "image/png": "[encoded data removed]",
      "text/plain": [
       "<Figure size 800x600 with 1 Axes>"
      ]
     },
     "metadata": {},
     "output_type": "display_data"
    }
   ],
   "source": [
    " # Visualize the distribution of the target variable (is_fraud)\n",
    "plt.figure(figsize=(8, 6))\n",
    "sns.countplot(x='is_fraud', data=data)\n",
    "plt.title('Distribution of Classes (0: Legitimate, 1: Fraudulent)')\n",
    "plt.show()"
   ]
  },
  {
   "cell_type": "code",
   "execution_count": 6,
   "id": "da5d692c",
   "metadata": {
    "execution": {
     "iopub.execute_input": "2023-12-16T05:41:21.341848Z",
     "iopub.status.busy": "2023-12-16T05:41:21.341217Z",
     "iopub.status.idle": "2023-12-16T05:41:21.873243Z",
     "shell.execute_reply": "2023-12-16T05:41:21.871998Z"
    },
    "papermill": {
     "duration": 0.540905,
     "end_time": "2023-12-16T05:41:21.875622",
     "exception": false,
     "start_time": "2023-12-16T05:41:21.334717",
     "status": "completed"
    },
    "tags": []
   },
   "outputs": [
    {
     "data": {
      "image/png": "[encoded data removed]",
      "text/plain": [
       "<Figure size 1200x600 with 1 Axes>"
      ]
     },
     "metadata": {},
     "output_type": "display_data"
    }
   ],
   "source": [
    " # Visualize the distribution of transaction amount for each class\n",
    "plt.figure(figsize=(12, 6))\n",
    "sns.boxplot(x='is_fraud', y='amt', data=data)\n",
    "plt.title('Transaction Amount Distribution by Class')\n",
    "plt.show()"
   ]
  },
  {
   "cell_type": "code",
   "execution_count": 7,
   "id": "338ddd2f",
   "metadata": {
    "execution": {
     "iopub.execute_input": "2023-12-16T05:41:21.888348Z",
     "iopub.status.busy": "2023-12-16T05:41:21.887694Z",
     "iopub.status.idle": "2023-12-16T05:41:22.257528Z",
     "shell.execute_reply": "2023-12-16T05:41:22.256101Z"
    },
    "papermill": {
     "duration": 0.379164,
     "end_time": "2023-12-16T05:41:22.260294",
     "exception": false,
     "start_time": "2023-12-16T05:41:21.881130",
     "status": "completed"
    },
    "tags": []
   },
   "outputs": [
    {
     "data": {
      "image/png": "[encoded data removed]",
      "text/plain": [
       "<Figure size 1200x600 with 1 Axes>"
      ]
     },
     "metadata": {},
     "output_type": "display_data"
    }
   ],
   "source": [
    " \n",
    "# Visualize the distribution of transaction time for each class\n",
    "plt.figure(figsize=(12, 6))\n",
    "sns.boxplot(x='is_fraud', y='unix_time', data=data)\n",
    "plt.title('Transaction Time Distribution by Class')\n",
    "plt.show()"
   ]
  },
  {
   "cell_type": "code",
   "execution_count": 8,
   "id": "2ef5cf0e",
   "metadata": {
    "execution": {
     "iopub.execute_input": "2023-12-16T05:41:22.276920Z",
     "iopub.status.busy": "2023-12-16T05:41:22.275724Z",
     "iopub.status.idle": "2023-12-16T05:41:29.195490Z",
     "shell.execute_reply": "2023-12-16T05:41:29.194293Z"
    },
    "papermill": {
     "duration": 6.929373,
     "end_time": "2023-12-16T05:41:29.198271",
     "exception": false,
     "start_time": "2023-12-16T05:41:22.268898",
     "status": "completed"
    },
    "tags": []
   },
   "outputs": [
    {
     "name": "stdout",
     "output_type": "stream",
     "text": [
      "             cc_num     amt      lat      long  city_pop   unix_time  \\\n",
      "0  2703186189652095    4.97  36.0788  -81.1781      3495  1325376018   \n",
      "1      630423337322  107.23  48.8878 -118.2105       149  1325376044   \n",
      "2    38859492057661  220.11  42.1808 -112.2620      4154  1325376051   \n",
      "3  3534093764340240   45.00  46.2306 -112.1138      1939  1325376076   \n",
      "4   375534208663984   41.96  38.4207  -79.4629        99  1325376186   \n",
      "\n",
      "   merch_lat  merch_long  is_fraud  category_food_dining  ...  \\\n",
      "0  36.011293  -82.048315         0                 False  ...   \n",
      "1  49.159047 -118.186462         0                 False  ...   \n",
      "2  43.150704 -112.154481         0                 False  ...   \n",
      "3  47.034331 -112.561071         0                 False  ...   \n",
      "4  38.674999  -78.632459         0                 False  ...   \n",
      "\n",
      "   job_Visual merchandiser  job_Volunteer coordinator  job_Warden/ranger  \\\n",
      "0                    False                      False              False   \n",
      "1                    False                      False              False   \n",
      "2                    False                      False              False   \n",
      "3                    False                      False              False   \n",
      "4                    False                      False              False   \n",
      "\n",
      "   job_Warehouse manager  job_Waste management officer  job_Water engineer  \\\n",
      "0                  False                         False               False   \n",
      "1                  False                         False               False   \n",
      "2                  False                         False               False   \n",
      "3                  False                         False               False   \n",
      "4                  False                         False               False   \n",
      "\n",
      "   job_Water quality scientist  job_Web designer  job_Wellsite geologist  \\\n",
      "0                        False             False                   False   \n",
      "1                        False             False                   False   \n",
      "2                        False             False                   False   \n",
      "3                        False             False                   False   \n",
      "4                        False             False                   False   \n",
      "\n",
      "   job_Writer  \n",
      "0       False  \n",
      "1       False  \n",
      "2       False  \n",
      "3       False  \n",
      "4       False  \n",
      "\n",
      "[5 rows x 516 columns]\n"
     ]
    }
   ],
   "source": [
    "# One-hot encoding for categorical variables\n",
    "data = pd.get_dummies(data, columns=['category', 'gender', 'job'], drop_first=True)\n",
    "\n",
    "# Drop unnecessary columns\n",
    "data = data.drop(['trans_date_trans_time', 'merchant', 'first', 'last', 'street', 'city', 'state', 'zip', 'dob', 'trans_num', 'Unnamed: 0'], axis=1)\n",
    "\n",
    "# Display the modified dataset\n",
    "print(data.head())\n"
   ]
  },
  {
   "cell_type": "code",
   "execution_count": 9,
   "id": "a51399d8",
   "metadata": {
    "execution": {
     "iopub.execute_input": "2023-12-16T05:41:29.211061Z",
     "iopub.status.busy": "2023-12-16T05:41:29.210672Z",
     "iopub.status.idle": "2023-12-16T05:41:33.043846Z",
     "shell.execute_reply": "2023-12-16T05:41:33.042782Z"
    },
    "papermill": {
     "duration": 3.842411,
     "end_time": "2023-12-16T05:41:33.046291",
     "exception": false,
     "start_time": "2023-12-16T05:41:29.203880",
     "status": "completed"
    },
    "tags": []
   },
   "outputs": [],
   "source": [
    "\n",
    "# Split the dataset into features (X) and target variable (y)\n",
    "X = data.drop('is_fraud', axis=1)  \n",
    "y = data['is_fraud']\n",
    "# Split the data into training and testing sets\n",
    "X_train, X_test, y_train, y_test = train_test_split(X, y, test_size=0.2, random_state=42)\n"
   ]
  },
  {
   "cell_type": "code",
   "execution_count": 10,
   "id": "cc5bfb20",
   "metadata": {
    "execution": {
     "iopub.execute_input": "2023-12-16T05:41:33.059602Z",
     "iopub.status.busy": "2023-12-16T05:41:33.059227Z",
     "iopub.status.idle": "2023-12-16T05:42:15.456040Z",
     "shell.execute_reply": "2023-12-16T05:42:15.454772Z"
    },
    "papermill": {
     "duration": 42.406627,
     "end_time": "2023-12-16T05:42:15.458763",
     "exception": false,
     "start_time": "2023-12-16T05:41:33.052136",
     "status": "completed"
    },
    "tags": []
   },
   "outputs": [],
   "source": [
    "# Standardize the features\n",
    "scaler = StandardScaler()\n",
    "X_train = scaler.fit_transform(X_train)\n",
    "X_test = scaler.transform(X_test)\n"
   ]
  },
  {
   "cell_type": "code",
   "execution_count": 11,
   "id": "171fc72d",
   "metadata": {
    "execution": {
     "iopub.execute_input": "2023-12-16T05:42:15.472408Z",
     "iopub.status.busy": "2023-12-16T05:42:15.471997Z",
     "iopub.status.idle": "2023-12-16T06:09:28.858004Z",
     "shell.execute_reply": "2023-12-16T06:09:28.852266Z"
    },
    "papermill": {
     "duration": 1633.408035,
     "end_time": "2023-12-16T06:09:28.872971",
     "exception": false,
     "start_time": "2023-12-16T05:42:15.464936",
     "status": "completed"
    },
    "tags": []
   },
   "outputs": [],
   "source": [
    " # Logistic Regression with increased max_iter\n",
    "log_reg_model = LogisticRegression(random_state=42,max_iter = 1000) \n",
    "log_reg_model.fit(X_train, y_train)\n",
    "log_reg_predictions = log_reg_model.predict(X_test)\n",
    "\n",
    "# Decision Tree\n",
    "dt_model = DecisionTreeClassifier(random_state=42)\n",
    "dt_model.fit(X_train, y_train)\n",
    "dt_predictions = dt_model.predict(X_test)\n",
    "\n",
    "# Random Forest\n",
    "rf_model = RandomForestClassifier(random_state=42)\n",
    "rf_model.fit(X_train, y_train)\n",
    "rf_predictions = rf_model.predict(X_test)"
   ]
  },
  {
   "cell_type": "code",
   "execution_count": 12,
   "id": "f31480fc",
   "metadata": {
    "execution": {
     "iopub.execute_input": "2023-12-16T06:09:28.934957Z",
     "iopub.status.busy": "2023-12-16T06:09:28.932028Z",
     "iopub.status.idle": "2023-12-16T06:09:28.956657Z",
     "shell.execute_reply": "2023-12-16T06:09:28.952435Z"
    },
    "papermill": {
     "duration": 0.067359,
     "end_time": "2023-12-16T06:09:28.967217",
     "exception": false,
     "start_time": "2023-12-16T06:09:28.899858",
     "status": "completed"
    },
    "tags": []
   },
   "outputs": [],
   "source": [
    "# Evaluate the models\n",
    "def evaluate_model(y_true, y_pred, model_name):\n",
    "    accuracy = accuracy_score(y_true, y_pred)\n",
    "    confusion_mat = confusion_matrix(y_true, y_pred)\n",
    "    classification_rep = classification_report(y_true, y_pred)\n",
    "    \n",
    "    print(f\"Model: {model_name}\")\n",
    "    print(f\"Accuracy: {accuracy:.4f}\")\n",
    "    print(f\"Confusion Matrix:\\n{confusion_mat}\")\n",
    "    print(f\"Classification Report:\\n{classification_rep}\")\n",
    "    print(\"\\n\")"
   ]
  },
  {
   "cell_type": "code",
   "execution_count": 13,
   "id": "a3db7312",
   "metadata": {
    "execution": {
     "iopub.execute_input": "2023-12-16T06:09:29.025305Z",
     "iopub.status.busy": "2023-12-16T06:09:29.022137Z",
     "iopub.status.idle": "2023-12-16T06:09:30.815953Z",
     "shell.execute_reply": "2023-12-16T06:09:30.814729Z"
    },
    "papermill": {
     "duration": 1.826014,
     "end_time": "2023-12-16T06:09:30.818629",
     "exception": false,
     "start_time": "2023-12-16T06:09:28.992615",
     "status": "completed"
    },
    "tags": []
   },
   "outputs": [
    {
     "name": "stdout",
     "output_type": "stream",
     "text": [
      "Model: Logistic Regression\n",
      "Accuracy: 0.9937\n",
      "Confusion Matrix:\n",
      "[[257676    139]\n",
      " [  1487     33]]\n",
      "Classification Report:\n",
      "              precision    recall  f1-score   support\n",
      "\n",
      "           0       0.99      1.00      1.00    257815\n",
      "           1       0.19      0.02      0.04      1520\n",
      "\n",
      "    accuracy                           0.99    259335\n",
      "   macro avg       0.59      0.51      0.52    259335\n",
      "weighted avg       0.99      0.99      0.99    259335\n",
      "\n",
      "\n",
      "\n",
      "Model: Decision Tree\n",
      "Accuracy: 0.9962\n",
      "Confusion Matrix:\n",
      "[[257321    494]\n",
      " [   481   1039]]\n",
      "Classification Report:\n",
      "              precision    recall  f1-score   support\n",
      "\n",
      "           0       1.00      1.00      1.00    257815\n",
      "           1       0.68      0.68      0.68      1520\n",
      "\n",
      "    accuracy                           1.00    259335\n",
      "   macro avg       0.84      0.84      0.84    259335\n",
      "weighted avg       1.00      1.00      1.00    259335\n",
      "\n",
      "\n",
      "\n",
      "Model: Random Forest\n",
      "Accuracy: 0.9975\n",
      "Confusion Matrix:\n",
      "[[257691    124]\n",
      " [   525    995]]\n",
      "Classification Report:\n",
      "              precision    recall  f1-score   support\n",
      "\n",
      "           0       1.00      1.00      1.00    257815\n",
      "           1       0.89      0.65      0.75      1520\n",
      "\n",
      "    accuracy                           1.00    259335\n",
      "   macro avg       0.94      0.83      0.88    259335\n",
      "weighted avg       1.00      1.00      1.00    259335\n",
      "\n",
      "\n",
      "\n"
     ]
    }
   ],
   "source": [
    "# Evaluate Logistic Regression model\n",
    "evaluate_model(y_test, log_reg_predictions, \"Logistic Regression\")\n",
    "\n",
    "# Evaluate Decision Tree model\n",
    "evaluate_model(y_test, dt_predictions, \"Decision Tree\")\n",
    "\n",
    "# Evaluate Random Forest model\n",
    "evaluate_model(y_test, rf_predictions, \"Random Forest\")\n"
   ]
  },
  {
   "cell_type": "code",
   "execution_count": 14,
   "id": "3f655e18",
   "metadata": {
    "execution": {
     "iopub.execute_input": "2023-12-16T06:09:30.832265Z",
     "iopub.status.busy": "2023-12-16T06:09:30.831890Z",
     "iopub.status.idle": "2023-12-16T06:09:31.263482Z",
     "shell.execute_reply": "2023-12-16T06:09:31.261269Z"
    },
    "papermill": {
     "duration": 0.443408,
     "end_time": "2023-12-16T06:09:31.268129",
     "exception": false,
     "start_time": "2023-12-16T06:09:30.824721",
     "status": "completed"
    },
    "tags": []
   },
   "outputs": [],
   "source": [
    "# Save predictions to a DataFrame\n",
    "predictions_df = pd.DataFrame({\n",
    "    'Actual': y_test,\n",
    "    'Logistic_Regression_Predictions': log_reg_predictions,\n",
    "    'Decision_Tree_Predictions': dt_predictions,\n",
    "    'Random_Forest_Predictions': rf_predictions\n",
    "})\n",
    "\n",
    "# Save the DataFrame to a CSV file\n",
    "predictions_df.to_csv('/kaggle/working/predictions.csv', index=False)\n"
   ]
  }
 ],
 "metadata": {
  "kaggle": {
   "accelerator": "none",
   "dataSources": [
    {
     "datasetId": 817870,
     "sourceId": 1399887,
     "sourceType": "datasetVersion"
    }
   ],
   "dockerImageVersionId": 30626,
   "isGpuEnabled": false,
   "isInternetEnabled": false,
   "language": "python",
   "sourceType": "notebook"
  },
  "kernelspec": {
   "display_name": "Python 3",
   "language": "python",
   "name": "python3"
  },
  "language_info": {
   "codemirror_mode": {
    "name": "ipython",
    "version": 3
   },
   "file_extension": ".py",
   "mimetype": "text/x-python",
   "name": "python",
   "nbconvert_exporter": "python",
   "pygments_lexer": "ipython3",
   "version": "3.10.12"
  },
  "papermill": {
   "default_parameters": {},
   "duration": 1710.728278,
   "end_time": "2023-12-16T06:09:32.930093",
   "environment_variables": {},
   "exception": null,
   "input_path": "__notebook__.ipynb",
   "output_path": "__notebook__.ipynb",
   "parameters": {},
   "start_time": "2023-12-16T05:41:02.201815",
   "version": "2.4.0"
  }
 },
 "nbformat": 4,
 "nbformat_minor": 5
}
